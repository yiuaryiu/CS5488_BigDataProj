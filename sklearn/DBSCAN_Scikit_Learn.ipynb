{
 "cells": [
  {
   "cell_type": "code",
   "execution_count": 1,
   "id": "b129e03a-613e-4a14-aaac-a0db3472a809",
   "metadata": {
    "tags": []
   },
   "outputs": [],
   "source": [
    "import pandas as pd"
   ]
  },
  {
   "cell_type": "code",
   "execution_count": 2,
   "id": "42977f92-be65-4c94-a66c-3e9607b685c3",
   "metadata": {
    "tags": []
   },
   "outputs": [],
   "source": [
    "file = \"rawdata.csv\" # define the csv file name"
   ]
  },
  {
   "cell_type": "code",
   "execution_count": 3,
   "id": "0f419156-ce61-4b97-84c2-e79256da6abb",
   "metadata": {},
   "outputs": [],
   "source": [
    "# read the csv\n",
    "data = pd.read_csv(\n",
    "    file,\n",
    "    usecols=[\"LATITUDE\", \"LONGITUDE\"]\n",
    ")"
   ]
  },
  {
   "cell_type": "code",
   "execution_count": 4,
   "id": "781840c4-fecc-45fd-8996-43a41a17d248",
   "metadata": {
    "tags": []
   },
   "outputs": [
    {
     "data": {
      "text/html": [
       "<div>\n",
       "<style scoped>\n",
       "    .dataframe tbody tr th:only-of-type {\n",
       "        vertical-align: middle;\n",
       "    }\n",
       "\n",
       "    .dataframe tbody tr th {\n",
       "        vertical-align: top;\n",
       "    }\n",
       "\n",
       "    .dataframe thead th {\n",
       "        text-align: right;\n",
       "    }\n",
       "</style>\n",
       "<table border=\"1\" class=\"dataframe\">\n",
       "  <thead>\n",
       "    <tr style=\"text-align: right;\">\n",
       "      <th></th>\n",
       "      <th>LATITUDE</th>\n",
       "      <th>LONGITUDE</th>\n",
       "    </tr>\n",
       "  </thead>\n",
       "  <tbody>\n",
       "    <tr>\n",
       "      <th>0</th>\n",
       "      <td>NaN</td>\n",
       "      <td>NaN</td>\n",
       "    </tr>\n",
       "    <tr>\n",
       "      <th>1</th>\n",
       "      <td>NaN</td>\n",
       "      <td>NaN</td>\n",
       "    </tr>\n",
       "    <tr>\n",
       "      <th>2</th>\n",
       "      <td>NaN</td>\n",
       "      <td>NaN</td>\n",
       "    </tr>\n",
       "    <tr>\n",
       "      <th>3</th>\n",
       "      <td>40.667202</td>\n",
       "      <td>-73.866500</td>\n",
       "    </tr>\n",
       "    <tr>\n",
       "      <th>4</th>\n",
       "      <td>40.683304</td>\n",
       "      <td>-73.917274</td>\n",
       "    </tr>\n",
       "  </tbody>\n",
       "</table>\n",
       "</div>"
      ],
      "text/plain": [
       "    LATITUDE  LONGITUDE\n",
       "0        NaN        NaN\n",
       "1        NaN        NaN\n",
       "2        NaN        NaN\n",
       "3  40.667202 -73.866500\n",
       "4  40.683304 -73.917274"
      ]
     },
     "execution_count": 4,
     "metadata": {},
     "output_type": "execute_result"
    }
   ],
   "source": [
    "data.head()"
   ]
  },
  {
   "cell_type": "code",
   "execution_count": 5,
   "id": "1ccefa05-2eba-4fcb-9be9-11d751efa477",
   "metadata": {
    "tags": []
   },
   "outputs": [
    {
     "data": {
      "text/html": [
       "<div>\n",
       "<style scoped>\n",
       "    .dataframe tbody tr th:only-of-type {\n",
       "        vertical-align: middle;\n",
       "    }\n",
       "\n",
       "    .dataframe tbody tr th {\n",
       "        vertical-align: top;\n",
       "    }\n",
       "\n",
       "    .dataframe thead th {\n",
       "        text-align: right;\n",
       "    }\n",
       "</style>\n",
       "<table border=\"1\" class=\"dataframe\">\n",
       "  <thead>\n",
       "    <tr style=\"text-align: right;\">\n",
       "      <th></th>\n",
       "      <th>LATITUDE</th>\n",
       "      <th>LONGITUDE</th>\n",
       "    </tr>\n",
       "  </thead>\n",
       "  <tbody>\n",
       "    <tr>\n",
       "      <th>3</th>\n",
       "      <td>40.667202</td>\n",
       "      <td>-73.866500</td>\n",
       "    </tr>\n",
       "    <tr>\n",
       "      <th>4</th>\n",
       "      <td>40.683304</td>\n",
       "      <td>-73.917274</td>\n",
       "    </tr>\n",
       "    <tr>\n",
       "      <th>6</th>\n",
       "      <td>40.709183</td>\n",
       "      <td>-73.956825</td>\n",
       "    </tr>\n",
       "    <tr>\n",
       "      <th>7</th>\n",
       "      <td>40.868160</td>\n",
       "      <td>-73.831480</td>\n",
       "    </tr>\n",
       "    <tr>\n",
       "      <th>8</th>\n",
       "      <td>40.671720</td>\n",
       "      <td>-73.897100</td>\n",
       "    </tr>\n",
       "  </tbody>\n",
       "</table>\n",
       "</div>"
      ],
      "text/plain": [
       "    LATITUDE  LONGITUDE\n",
       "3  40.667202 -73.866500\n",
       "4  40.683304 -73.917274\n",
       "6  40.709183 -73.956825\n",
       "7  40.868160 -73.831480\n",
       "8  40.671720 -73.897100"
      ]
     },
     "execution_count": 5,
     "metadata": {},
     "output_type": "execute_result"
    }
   ],
   "source": [
    "data.dropna().head()"
   ]
  },
  {
   "cell_type": "code",
   "execution_count": 6,
   "id": "55fa38b7-e502-4980-b22f-3ffc7c6a6ce2",
   "metadata": {
    "tags": []
   },
   "outputs": [
    {
     "name": "stderr",
     "output_type": "stream",
     "text": [
      "C:\\Users\\LamKingYiu\\AppData\\Local\\Temp\\ipykernel_15748\\586527192.py:5: FutureWarning: In a future version of pandas all arguments of DataFrame.any and Series.any will be keyword-only.\n",
      "  data = data.loc[(data != 0).any(1)]\n"
     ]
    },
    {
     "data": {
      "text/html": [
       "<div>\n",
       "<style scoped>\n",
       "    .dataframe tbody tr th:only-of-type {\n",
       "        vertical-align: middle;\n",
       "    }\n",
       "\n",
       "    .dataframe tbody tr th {\n",
       "        vertical-align: top;\n",
       "    }\n",
       "\n",
       "    .dataframe thead th {\n",
       "        text-align: right;\n",
       "    }\n",
       "</style>\n",
       "<table border=\"1\" class=\"dataframe\">\n",
       "  <thead>\n",
       "    <tr style=\"text-align: right;\">\n",
       "      <th></th>\n",
       "      <th>LATITUDE</th>\n",
       "      <th>LONGITUDE</th>\n",
       "    </tr>\n",
       "  </thead>\n",
       "  <tbody>\n",
       "    <tr>\n",
       "      <th>count</th>\n",
       "      <td>1.798167e+06</td>\n",
       "      <td>1.798167e+06</td>\n",
       "    </tr>\n",
       "    <tr>\n",
       "      <th>mean</th>\n",
       "      <td>4.072416e+01</td>\n",
       "      <td>-7.392729e+01</td>\n",
       "    </tr>\n",
       "    <tr>\n",
       "      <th>std</th>\n",
       "      <td>7.958958e-02</td>\n",
       "      <td>9.896603e-01</td>\n",
       "    </tr>\n",
       "    <tr>\n",
       "      <th>min</th>\n",
       "      <td>3.078418e+01</td>\n",
       "      <td>-2.013600e+02</td>\n",
       "    </tr>\n",
       "    <tr>\n",
       "      <th>25%</th>\n",
       "      <td>4.066835e+01</td>\n",
       "      <td>-7.397495e+01</td>\n",
       "    </tr>\n",
       "    <tr>\n",
       "      <th>50%</th>\n",
       "      <td>4.072122e+01</td>\n",
       "      <td>-7.392752e+01</td>\n",
       "    </tr>\n",
       "    <tr>\n",
       "      <th>75%</th>\n",
       "      <td>4.076974e+01</td>\n",
       "      <td>-7.386722e+01</td>\n",
       "    </tr>\n",
       "    <tr>\n",
       "      <th>max</th>\n",
       "      <td>4.334444e+01</td>\n",
       "      <td>-3.276851e+01</td>\n",
       "    </tr>\n",
       "  </tbody>\n",
       "</table>\n",
       "</div>"
      ],
      "text/plain": [
       "           LATITUDE     LONGITUDE\n",
       "count  1.798167e+06  1.798167e+06\n",
       "mean   4.072416e+01 -7.392729e+01\n",
       "std    7.958958e-02  9.896603e-01\n",
       "min    3.078418e+01 -2.013600e+02\n",
       "25%    4.066835e+01 -7.397495e+01\n",
       "50%    4.072122e+01 -7.392752e+01\n",
       "75%    4.076974e+01 -7.386722e+01\n",
       "max    4.334444e+01 -3.276851e+01"
      ]
     },
     "execution_count": 6,
     "metadata": {},
     "output_type": "execute_result"
    }
   ],
   "source": [
    "# drop rows with no coordinates\n",
    "data = data.dropna()\n",
    "\n",
    "# drop rows with 0 in all cols\n",
    "data = data.loc[(data != 0).any(1)]\n",
    "\n",
    "# data overview\n",
    "data.describe()"
   ]
  },
  {
   "cell_type": "code",
   "execution_count": 7,
   "id": "2f3eaa1a-ed13-4341-909c-5542b692e166",
   "metadata": {
    "tags": []
   },
   "outputs": [],
   "source": [
    "# change to numpy for sklearn\n",
    "X = data.to_numpy()"
   ]
  },
  {
   "cell_type": "code",
   "execution_count": 8,
   "id": "ecc4921f-2b9d-483f-924e-6cab7d7b369d",
   "metadata": {
    "tags": []
   },
   "outputs": [
    {
     "data": {
      "text/plain": [
       "(1798167, 2)"
      ]
     },
     "execution_count": 8,
     "metadata": {},
     "output_type": "execute_result"
    }
   ],
   "source": [
    "# select sub-samples if needed\n",
    "# subX = X[::20]\n",
    "\n",
    "# choose the full dataset\n",
    "subX = X\n",
    "\n",
    "# print out dataset size\n",
    "subX.shape"
   ]
  },
  {
   "cell_type": "code",
   "execution_count": null,
   "id": "328f2ec2-8cce-4448-b6cd-38aa667f66ef",
   "metadata": {
    "jupyter": {
     "source_hidden": true
    },
    "tags": []
   },
   "outputs": [],
   "source": [
    "## memory error due DBSCAN complexity O(n^2)\n",
    "## DO NOT RUN\n",
    "\n",
    "import numpy as np\n",
    "import time\n",
    "from sklearn import metrics\n",
    "from sklearn.cluster import DBSCAN\n",
    "\n",
    "start_time = time.time()\n",
    "db = DBSCAN(\n",
    "    eps=0.1, \n",
    "    min_samples=100, \n",
    "    n_jobs=-1, # use 4 cores\n",
    "    algorithm='ball_tree', \n",
    "    metric='haversine'\n",
    ").fit(np.radians(subX))\n",
    "labels = db.labels_\n",
    "end_time = time.time()\n",
    "\n",
    "# Number of clusters in labels, ignoring noise if present.\n",
    "n_clusters_ = len(set(labels)) - (1 if -1 in labels else 0)\n",
    "n_noise_ = list(labels).count(-1)\n",
    "\n",
    "print(\"Running time: \", end_time - start_time)\n",
    "print(\"Estimated number of clusters: %d\" % n_clusters_)\n",
    "print(\"Estimated number of noise points: %d\" % n_noise_)"
   ]
  },
  {
   "cell_type": "code",
   "execution_count": 18,
   "id": "da18c805-40a4-4cc2-9936-e75f496e4c48",
   "metadata": {
    "tags": []
   },
   "outputs": [
    {
     "name": "stdout",
     "output_type": "stream",
     "text": [
      "Running time:  15817.286792516708\n",
      "Estimated number of clusters: 13\n",
      "Estimated number of noise points: 1784554\n"
     ]
    }
   ],
   "source": [
    "# USE OPTICS to perform DBSCAN\n",
    "\n",
    "import numpy as np\n",
    "import time\n",
    "from sklearn import metrics\n",
    "from sklearn.cluster import OPTICS\n",
    "\n",
    "start_time = time.time()\n",
    "op = OPTICS(\n",
    "    max_eps=0.1/6371., \n",
    "    min_samples=1000,\n",
    "    # eps setting see:\n",
    "    # https://stackoverflow.com/questions/34579213/dbscan-for-clustering-of-geographic-location-data\n",
    "    eps=0.05/6371., # 0.05 km / 50m\n",
    "    cluster_method='dbscan',\n",
    "    n_jobs=-1,\n",
    "    algorithm='ball_tree', \n",
    "    metric='haversine'\n",
    ").fit(np.radians(subX)) # convert GPS coordinates to radians\n",
    "labels = op.labels_\n",
    "end_time = time.time()\n",
    "\n",
    "# Number of clusters in labels, ignoring noise if present.\n",
    "n_clusters_ = len(set(labels)) - (1 if -1 in labels else 0)\n",
    "n_noise_ = list(labels).count(-1)\n",
    "\n",
    "print(\"Running time: \", end_time - start_time)\n",
    "print(\"Estimated number of clusters: %d\" % n_clusters_)\n",
    "print(\"Estimated number of noise points: %d\" % n_noise_)"
   ]
  },
  {
   "cell_type": "code",
   "execution_count": 19,
   "id": "817c761e-375b-4e23-bfeb-de64cad9215f",
   "metadata": {
    "tags": []
   },
   "outputs": [],
   "source": [
    "# label of all points, starting with 0\n",
    "# -1 if belongs to noise\n",
    "labels = np.array(op.labels_)"
   ]
  },
  {
   "cell_type": "code",
   "execution_count": 20,
   "id": "14486d28-2209-4119-9e49-0d3f0884ed36",
   "metadata": {
    "tags": []
   },
   "outputs": [],
   "source": [
    "coordinates = subX[labels != -1]"
   ]
  },
  {
   "cell_type": "code",
   "execution_count": 21,
   "id": "31467fd9-70e9-40da-b76e-4b7314ea57d9",
   "metadata": {
    "tags": []
   },
   "outputs": [],
   "source": [
    "clusters = labels[labels != -1]"
   ]
  },
  {
   "cell_type": "code",
   "execution_count": 22,
   "id": "3f1c5da0-f304-4e65-b826-3470029bf442",
   "metadata": {
    "tags": []
   },
   "outputs": [
    {
     "data": {
      "text/plain": [
       "array([ 0,  1,  2,  3,  4,  5,  6,  7,  8,  9, 10, 11, 12])"
      ]
     },
     "execution_count": 22,
     "metadata": {},
     "output_type": "execute_result"
    }
   ],
   "source": [
    "np.unique(clusters)"
   ]
  },
  {
   "cell_type": "code",
   "execution_count": 23,
   "id": "1e248faa-29fb-4c4e-af6c-11e9e48dfcd4",
   "metadata": {
    "tags": []
   },
   "outputs": [],
   "source": [
    "#number of centres\n",
    "no_centre = np.unique(labels[labels!=-1]).shape[0]\n",
    "\n",
    "# create a np array to calculate the centre\n",
    "centres=np.zeros(shape=(no_centre,2))\n",
    "\n",
    "for i in range(no_centre):\n",
    "    centres[i] = np.average(subX[labels==i],axis=0)"
   ]
  },
  {
   "cell_type": "code",
   "execution_count": 24,
   "id": "6116f160-17ca-42d5-8e20-8661d51a7b17",
   "metadata": {
    "tags": []
   },
   "outputs": [],
   "source": [
    "# list of all centres\n",
    "centres.tofile(\"centres\")\n",
    "\n",
    "# list of all coordinates\n",
    "coordinates.tofile(\"coordinates\")\n",
    "\n",
    "# list of labels\n",
    "clusters.tofile(\"labels\")"
   ]
  },
  {
   "cell_type": "code",
   "execution_count": 25,
   "id": "b469f9ee-903b-4328-b1f2-7b7249cecb3c",
   "metadata": {
    "tags": []
   },
   "outputs": [],
   "source": [
    "# output coordinates to csv\n",
    "pd.DataFrame(\n",
    "    data = coordinates,\n",
    "    columns = (\"LATITUDE\", \"LONGITUDE\")\n",
    ").to_csv(\"coordinates.csv\")"
   ]
  },
  {
   "cell_type": "code",
   "execution_count": 26,
   "id": "90c22b47-0964-41b9-b5e1-9e725d2c1942",
   "metadata": {
    "tags": []
   },
   "outputs": [],
   "source": [
    "# output centres to csv\n",
    "pd.DataFrame(\n",
    "    data = centres,\n",
    "    columns = (\"LATITUDE\", \"LONGITUDE\")\n",
    ").to_csv(\"centres.csv\")"
   ]
  },
  {
   "cell_type": "code",
   "execution_count": 27,
   "id": "1c8d4753-b017-4d48-8f0d-cb9faf8fd518",
   "metadata": {},
   "outputs": [],
   "source": [
    "# to read the file\n",
    "# use np.fromfile()"
   ]
  },
  {
   "cell_type": "code",
   "execution_count": 28,
   "id": "2f062845-7dcc-46c5-b725-4d864b7dcc02",
   "metadata": {
    "tags": []
   },
   "outputs": [
    {
     "data": {
      "text/plain": [
       "(13, 2)"
      ]
     },
     "execution_count": 28,
     "metadata": {},
     "output_type": "execute_result"
    }
   ],
   "source": [
    "centres.shape"
   ]
  },
  {
   "cell_type": "code",
   "execution_count": 29,
   "id": "1ddda576-4bcd-4314-b6f0-11c6a15cf2a1",
   "metadata": {
    "tags": []
   },
   "outputs": [
    {
     "data": {
      "text/plain": [
       "(13613, 2)"
      ]
     },
     "execution_count": 29,
     "metadata": {},
     "output_type": "execute_result"
    }
   ],
   "source": [
    "coordinates.shape"
   ]
  },
  {
   "cell_type": "code",
   "execution_count": 30,
   "id": "65d222cf-1d3e-4f64-8688-b6c3c42e9b9f",
   "metadata": {
    "tags": []
   },
   "outputs": [
    {
     "data": {
      "text/plain": [
       "(13613,)"
      ]
     },
     "execution_count": 30,
     "metadata": {},
     "output_type": "execute_result"
    }
   ],
   "source": [
    "clusters.shape"
   ]
  },
  {
   "cell_type": "code",
   "execution_count": 31,
   "id": "da03b2b0-1514-4710-9bc7-0c959fdf8508",
   "metadata": {
    "tags": []
   },
   "outputs": [
    {
     "data": {
      "text/plain": [
       "array([[ 40.861862, -73.91275 ],\n",
       "       [ 40.86173 , -73.91182 ],\n",
       "       [ 40.861862, -73.91282 ],\n",
       "       ...,\n",
       "       [ 40.861862, -73.91275 ],\n",
       "       [ 40.86173 , -73.91182 ],\n",
       "       [ 40.861862, -73.91275 ]])"
      ]
     },
     "execution_count": 31,
     "metadata": {},
     "output_type": "execute_result"
    }
   ],
   "source": [
    "coordinates[clusters == 0]"
   ]
  },
  {
   "cell_type": "code",
   "execution_count": null,
   "id": "62f98821-0df6-475f-91f6-ddcc46a02e0c",
   "metadata": {},
   "outputs": [],
   "source": []
  }
 ],
 "metadata": {
  "kernelspec": {
   "display_name": "Python 3 (ipykernel)",
   "language": "python",
   "name": "python3"
  },
  "language_info": {
   "codemirror_mode": {
    "name": "ipython",
    "version": 3
   },
   "file_extension": ".py",
   "mimetype": "text/x-python",
   "name": "python",
   "nbconvert_exporter": "python",
   "pygments_lexer": "ipython3",
   "version": "3.8.5"
  },
  "widgets": {
   "application/vnd.jupyter.widget-state+json": {
    "state": {},
    "version_major": 2,
    "version_minor": 0
   }
  }
 },
 "nbformat": 4,
 "nbformat_minor": 5
}
